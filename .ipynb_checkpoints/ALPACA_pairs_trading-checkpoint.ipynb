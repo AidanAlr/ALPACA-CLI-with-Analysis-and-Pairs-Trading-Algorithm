{
 "cells": [
  {
   "cell_type": "markdown",
   "id": "516ff2b4",
   "metadata": {},
   "source": [
    "# Selecting Assets"
   ]
  },
  {
   "cell_type": "code",
   "execution_count": 2,
   "id": "7c081b35",
   "metadata": {
    "ExecuteTime": {
     "end_time": "2023-12-04T19:50:59.060307700Z",
     "start_time": "2023-12-04T19:50:58.543159900Z"
    }
   },
   "outputs": [
    {
     "name": "stdout",
     "output_type": "stream",
     "text": [
      "[*********************100%%**********************]  45 of 45 completed\n"
     ]
    },
    {
     "name": "stderr",
     "output_type": "stream",
     "text": [
      "C:\\Users\\aidan\\AppData\\Local\\Temp\\ipykernel_25244\\3078593692.py:58: SettingWithCopyWarning: \n",
      "A value is trying to be set on a copy of a slice from a DataFrame.\n",
      "Try using .loc[row_indexer,col_indexer] = value instead\n",
      "\n",
      "See the caveats in the documentation: https://pandas.pydata.org/pandas-docs/stable/user_guide/indexing.html#returning-a-view-versus-a-copy\n",
      "  highest_corr_pairs['lookup'] = highest_corr_pairs['Stock_1'] + ' - '+ highest_corr_pairs['Stock_2']\n"
     ]
    },
    {
     "data": {
      "text/plain": "                   AA        ADM        AGI        APA        BHP         BP  \\\nDate                                                                           \n2022-12-05  45.972157  88.716331   9.697228  44.608044  60.771145  33.462864   \n2022-12-06  47.741077  88.794525   9.637613  42.812397  61.024036  32.860535   \n2022-12-07  46.051216  91.062035   9.886005  42.607464  60.741966  32.420734   \n2022-12-08  46.723202  90.309464   9.975427  41.738918  61.734070  32.439857   \n2022-12-09  44.549114  89.801216   9.776713  40.850857  62.230118  32.229519   \n...               ...        ...        ...        ...        ...        ...   \n2023-11-27  26.299999  73.190002  14.060000  36.340000  61.310001  35.939999   \n2023-11-28  26.080000  74.050003  14.570000  36.380001  61.639999  35.939999   \n2023-11-29  26.440001  73.190002  14.600000  36.310001  60.799999  36.070000   \n2023-11-30  26.860001  73.730003  14.810000  36.000000  60.959999  36.290001   \n2023-12-01  27.740000  75.080002  14.860000  36.200001  62.939999  35.980000   \n\n                    CF        CMP         COP         CVX  ...       SBSW  \\\nDate                                                       ...              \n2022-12-05  101.367111  43.906422  114.420479  169.885056  ...  10.321188   \n2022-12-06   99.427536  43.080414  110.816376  165.507065  ...  10.321188   \n2022-12-07   98.467537  43.660587  110.116646  165.997772  ...  10.454611   \n2022-12-08   98.095306  42.683777  107.931183  166.979218  ...  10.530851   \n2022-12-09   96.684708  42.279236  105.458160  161.648682  ...  10.483201   \n...                ...        ...         ...         ...  ...        ...   \n2023-11-27   75.900002  24.469999  114.800003  144.360001  ...   4.460000   \n2023-11-28   75.599998  24.510000  114.980003  145.509995  ...   4.660000   \n2023-11-29   74.750000  24.660000  113.970001  143.910004  ...   4.530000   \n2023-11-30   75.150002  24.280001  115.570000  143.600006  ...   4.460000   \n2023-12-01   76.309998  25.320000  115.230003  144.809998  ...   4.660000   \n\n                  SLB         SU       TECK       VALE        WMB        WPM  \\\nDate                                                                           \n2022-12-05  50.477436  29.586174  35.489571  15.093271  32.335499  38.377697   \n2022-12-06  50.157051  28.557089  36.019119  15.368363  31.673084  38.308601   \n2022-12-07  49.092396  28.376049  35.597439  14.827353  31.975899  38.910717   \n2022-12-08  49.210693  28.490391  36.538860  15.065763  31.539843  39.009422   \n2022-12-09  46.302608  28.204535  35.979893  15.533418  31.233164  38.486275   \n...               ...        ...        ...        ...        ...        ...   \n2023-11-27  52.549999  31.887510  35.619999  14.890000  36.389999  47.630001   \n2023-11-28  52.310001  32.381432  36.740002  15.090000  36.330002  49.150002   \n2023-11-29  51.869999  32.578999  37.080002  14.940000  36.439999  49.049999   \n2023-11-30  52.040001  32.990002  37.650002  15.000000  36.790001  48.900002   \n2023-12-01  52.389999  32.980000  38.849998  15.370000  37.279999  49.549999   \n\n                   WY          X         XOM  \nDate                                          \n2022-12-05  29.949677  26.068661  103.322357  \n2022-12-06  29.474588  26.991533  100.450401  \n2022-12-07  30.111208  26.445749  100.228004  \n2022-12-08  30.092203  25.909885  100.972588  \n2022-12-09  29.911669  25.215250  100.121635  \n...               ...        ...         ...  \n2023-11-27  31.430481  34.820000  103.959999  \n2023-11-28  31.350962  35.419998  103.900002  \n2023-11-29  31.510002  35.580002  102.339996  \n2023-11-30  31.350000  35.900002  102.739998  \n2023-12-01  31.740000  36.240002  102.989998  \n\n[250 rows x 45 columns]",
      "text/html": "<div>\n<style scoped>\n    .dataframe tbody tr th:only-of-type {\n        vertical-align: middle;\n    }\n\n    .dataframe tbody tr th {\n        vertical-align: top;\n    }\n\n    .dataframe thead th {\n        text-align: right;\n    }\n</style>\n<table border=\"1\" class=\"dataframe\">\n  <thead>\n    <tr style=\"text-align: right;\">\n      <th></th>\n      <th>AA</th>\n      <th>ADM</th>\n      <th>AGI</th>\n      <th>APA</th>\n      <th>BHP</th>\n      <th>BP</th>\n      <th>CF</th>\n      <th>CMP</th>\n      <th>COP</th>\n      <th>CVX</th>\n      <th>...</th>\n      <th>SBSW</th>\n      <th>SLB</th>\n      <th>SU</th>\n      <th>TECK</th>\n      <th>VALE</th>\n      <th>WMB</th>\n      <th>WPM</th>\n      <th>WY</th>\n      <th>X</th>\n      <th>XOM</th>\n    </tr>\n    <tr>\n      <th>Date</th>\n      <th></th>\n      <th></th>\n      <th></th>\n      <th></th>\n      <th></th>\n      <th></th>\n      <th></th>\n      <th></th>\n      <th></th>\n      <th></th>\n      <th></th>\n      <th></th>\n      <th></th>\n      <th></th>\n      <th></th>\n      <th></th>\n      <th></th>\n      <th></th>\n      <th></th>\n      <th></th>\n      <th></th>\n    </tr>\n  </thead>\n  <tbody>\n    <tr>\n      <th>2022-12-05</th>\n      <td>45.972157</td>\n      <td>88.716331</td>\n      <td>9.697228</td>\n      <td>44.608044</td>\n      <td>60.771145</td>\n      <td>33.462864</td>\n      <td>101.367111</td>\n      <td>43.906422</td>\n      <td>114.420479</td>\n      <td>169.885056</td>\n      <td>...</td>\n      <td>10.321188</td>\n      <td>50.477436</td>\n      <td>29.586174</td>\n      <td>35.489571</td>\n      <td>15.093271</td>\n      <td>32.335499</td>\n      <td>38.377697</td>\n      <td>29.949677</td>\n      <td>26.068661</td>\n      <td>103.322357</td>\n    </tr>\n    <tr>\n      <th>2022-12-06</th>\n      <td>47.741077</td>\n      <td>88.794525</td>\n      <td>9.637613</td>\n      <td>42.812397</td>\n      <td>61.024036</td>\n      <td>32.860535</td>\n      <td>99.427536</td>\n      <td>43.080414</td>\n      <td>110.816376</td>\n      <td>165.507065</td>\n      <td>...</td>\n      <td>10.321188</td>\n      <td>50.157051</td>\n      <td>28.557089</td>\n      <td>36.019119</td>\n      <td>15.368363</td>\n      <td>31.673084</td>\n      <td>38.308601</td>\n      <td>29.474588</td>\n      <td>26.991533</td>\n      <td>100.450401</td>\n    </tr>\n    <tr>\n      <th>2022-12-07</th>\n      <td>46.051216</td>\n      <td>91.062035</td>\n      <td>9.886005</td>\n      <td>42.607464</td>\n      <td>60.741966</td>\n      <td>32.420734</td>\n      <td>98.467537</td>\n      <td>43.660587</td>\n      <td>110.116646</td>\n      <td>165.997772</td>\n      <td>...</td>\n      <td>10.454611</td>\n      <td>49.092396</td>\n      <td>28.376049</td>\n      <td>35.597439</td>\n      <td>14.827353</td>\n      <td>31.975899</td>\n      <td>38.910717</td>\n      <td>30.111208</td>\n      <td>26.445749</td>\n      <td>100.228004</td>\n    </tr>\n    <tr>\n      <th>2022-12-08</th>\n      <td>46.723202</td>\n      <td>90.309464</td>\n      <td>9.975427</td>\n      <td>41.738918</td>\n      <td>61.734070</td>\n      <td>32.439857</td>\n      <td>98.095306</td>\n      <td>42.683777</td>\n      <td>107.931183</td>\n      <td>166.979218</td>\n      <td>...</td>\n      <td>10.530851</td>\n      <td>49.210693</td>\n      <td>28.490391</td>\n      <td>36.538860</td>\n      <td>15.065763</td>\n      <td>31.539843</td>\n      <td>39.009422</td>\n      <td>30.092203</td>\n      <td>25.909885</td>\n      <td>100.972588</td>\n    </tr>\n    <tr>\n      <th>2022-12-09</th>\n      <td>44.549114</td>\n      <td>89.801216</td>\n      <td>9.776713</td>\n      <td>40.850857</td>\n      <td>62.230118</td>\n      <td>32.229519</td>\n      <td>96.684708</td>\n      <td>42.279236</td>\n      <td>105.458160</td>\n      <td>161.648682</td>\n      <td>...</td>\n      <td>10.483201</td>\n      <td>46.302608</td>\n      <td>28.204535</td>\n      <td>35.979893</td>\n      <td>15.533418</td>\n      <td>31.233164</td>\n      <td>38.486275</td>\n      <td>29.911669</td>\n      <td>25.215250</td>\n      <td>100.121635</td>\n    </tr>\n    <tr>\n      <th>...</th>\n      <td>...</td>\n      <td>...</td>\n      <td>...</td>\n      <td>...</td>\n      <td>...</td>\n      <td>...</td>\n      <td>...</td>\n      <td>...</td>\n      <td>...</td>\n      <td>...</td>\n      <td>...</td>\n      <td>...</td>\n      <td>...</td>\n      <td>...</td>\n      <td>...</td>\n      <td>...</td>\n      <td>...</td>\n      <td>...</td>\n      <td>...</td>\n      <td>...</td>\n      <td>...</td>\n    </tr>\n    <tr>\n      <th>2023-11-27</th>\n      <td>26.299999</td>\n      <td>73.190002</td>\n      <td>14.060000</td>\n      <td>36.340000</td>\n      <td>61.310001</td>\n      <td>35.939999</td>\n      <td>75.900002</td>\n      <td>24.469999</td>\n      <td>114.800003</td>\n      <td>144.360001</td>\n      <td>...</td>\n      <td>4.460000</td>\n      <td>52.549999</td>\n      <td>31.887510</td>\n      <td>35.619999</td>\n      <td>14.890000</td>\n      <td>36.389999</td>\n      <td>47.630001</td>\n      <td>31.430481</td>\n      <td>34.820000</td>\n      <td>103.959999</td>\n    </tr>\n    <tr>\n      <th>2023-11-28</th>\n      <td>26.080000</td>\n      <td>74.050003</td>\n      <td>14.570000</td>\n      <td>36.380001</td>\n      <td>61.639999</td>\n      <td>35.939999</td>\n      <td>75.599998</td>\n      <td>24.510000</td>\n      <td>114.980003</td>\n      <td>145.509995</td>\n      <td>...</td>\n      <td>4.660000</td>\n      <td>52.310001</td>\n      <td>32.381432</td>\n      <td>36.740002</td>\n      <td>15.090000</td>\n      <td>36.330002</td>\n      <td>49.150002</td>\n      <td>31.350962</td>\n      <td>35.419998</td>\n      <td>103.900002</td>\n    </tr>\n    <tr>\n      <th>2023-11-29</th>\n      <td>26.440001</td>\n      <td>73.190002</td>\n      <td>14.600000</td>\n      <td>36.310001</td>\n      <td>60.799999</td>\n      <td>36.070000</td>\n      <td>74.750000</td>\n      <td>24.660000</td>\n      <td>113.970001</td>\n      <td>143.910004</td>\n      <td>...</td>\n      <td>4.530000</td>\n      <td>51.869999</td>\n      <td>32.578999</td>\n      <td>37.080002</td>\n      <td>14.940000</td>\n      <td>36.439999</td>\n      <td>49.049999</td>\n      <td>31.510002</td>\n      <td>35.580002</td>\n      <td>102.339996</td>\n    </tr>\n    <tr>\n      <th>2023-11-30</th>\n      <td>26.860001</td>\n      <td>73.730003</td>\n      <td>14.810000</td>\n      <td>36.000000</td>\n      <td>60.959999</td>\n      <td>36.290001</td>\n      <td>75.150002</td>\n      <td>24.280001</td>\n      <td>115.570000</td>\n      <td>143.600006</td>\n      <td>...</td>\n      <td>4.460000</td>\n      <td>52.040001</td>\n      <td>32.990002</td>\n      <td>37.650002</td>\n      <td>15.000000</td>\n      <td>36.790001</td>\n      <td>48.900002</td>\n      <td>31.350000</td>\n      <td>35.900002</td>\n      <td>102.739998</td>\n    </tr>\n    <tr>\n      <th>2023-12-01</th>\n      <td>27.740000</td>\n      <td>75.080002</td>\n      <td>14.860000</td>\n      <td>36.200001</td>\n      <td>62.939999</td>\n      <td>35.980000</td>\n      <td>76.309998</td>\n      <td>25.320000</td>\n      <td>115.230003</td>\n      <td>144.809998</td>\n      <td>...</td>\n      <td>4.660000</td>\n      <td>52.389999</td>\n      <td>32.980000</td>\n      <td>38.849998</td>\n      <td>15.370000</td>\n      <td>37.279999</td>\n      <td>49.549999</td>\n      <td>31.740000</td>\n      <td>36.240002</td>\n      <td>102.989998</td>\n    </tr>\n  </tbody>\n</table>\n<p>250 rows × 45 columns</p>\n</div>"
     },
     "execution_count": 2,
     "metadata": {},
     "output_type": "execute_result"
    }
   ],
   "source": [
    "from statsmodels.regression.rolling import RollingOLS\n",
    "from statsmodels.tsa.stattools import coint\n",
    "from statsmodels.tsa.stattools import adfuller\n",
    "import seaborn as sn\n",
    "import matplotlib.pyplot as plt\n",
    "import statsmodels.api as sm\n",
    "import datetime as dt\n",
    "import yfinance as yf\n",
    "import pandas as pd\n",
    "import numpy as np\n",
    "from scipy import stats\n",
    "import websocket\n",
    "import json\n",
    "import time\n",
    "from datetime import datetime\n",
    "import sys\n",
    "\n",
    "#Alpaca imports\n",
    "from alpaca.trading.client import TradingClient\n",
    "from alpaca.trading.requests import MarketOrderRequest\n",
    "from alpaca.trading.enums import OrderSide, TimeInForce\n",
    "\n",
    "import os\n",
    "os.environ['APCA_API_BASE_URL'] = 'https://paper-api.alpaca.markets'\n",
    "\n",
    "\n",
    "\n",
    "#Storage\n",
    "order_history = pd.DataFrame()\n",
    "spread_visualisations = {}\n",
    "zscore_visualisations = {}\n",
    "\n",
    "plt.style.use('fivethirtyeight')\n",
    "\n",
    "#Setting dataset for the model\n",
    "END_DATE = dt.date.today()\n",
    "START_DATE = END_DATE-pd.DateOffset(days=365)\n",
    "\n",
    "SYMBOLS_LIST = ['XOM', 'CVX', 'BP', 'COP', 'PXD', 'EOG', 'APA', 'OXY', 'MPC', 'SLB', 'HAL', 'KMI', 'PBR', 'SU', 'ENB', 'EPD', 'EQT', 'BHP', 'VALE', 'RIO', 'FCX', 'NEM', 'GOLD', 'WPM', 'AGI', 'TECK', 'SBSW', 'CF', 'ADM', 'MOS', 'FMC', 'LIN', 'NUE', 'RGLD', 'WY', 'PAA', 'ET', 'MPLX', 'WMB', 'X', 'AA', 'CMP', 'IP', 'PKG', 'PPG']\n",
    "\n",
    "\n",
    "\n",
    "\n",
    "prices_df = yf.download(tickers=SYMBOLS_LIST, start=START_DATE, end=END_DATE)['Adj Close']\n",
    "prices_df = prices_df.dropna(axis=0)\n",
    "\n",
    "#Finding the highest correlation pairs\n",
    "corr_matrix = prices_df.corr().abs()\n",
    "cmu = corr_matrix.unstack()\n",
    "cmu = cmu[cmu != 1]\n",
    "cmu = cmu[~cmu.duplicated()]\n",
    "cmu = cmu.sort_values(kind=\"quicksort\", ascending=False)\n",
    "cmu = cmu.reset_index()\n",
    "cmu = cmu.rename(columns={\"level_0\" : 'Stock_1', \"level_1\": 'Stock_2', 0: 'Correlation'})\n",
    "\n",
    "\n",
    "highest_corr_pairs = cmu[cmu['Correlation'] >= 0.80]\n",
    "highest_corr_pairs['lookup'] = highest_corr_pairs['Stock_1'] + ' - '+ highest_corr_pairs['Stock_2']\n",
    "highest_corr_pairs\n",
    "prices_df"
   ]
  },
  {
   "cell_type": "code",
   "execution_count": 3,
   "id": "03d9fada",
   "metadata": {
    "ExecuteTime": {
     "end_time": "2023-12-04T19:50:59.064312300Z",
     "start_time": "2023-12-04T19:50:59.058744Z"
    }
   },
   "outputs": [],
   "source": [
    "def connect_to_alpaca():\n",
    "    global trading_client\n",
    "    \n",
    "    api_key = ''\n",
    "    api_secret = ''\n",
    "    \n",
    "    trading_client = TradingClient(api_key, api_secret, paper=True)\n",
    "    account = trading_client.get_account()\n",
    "    print('Connected to ALPACA')\n",
    "    print('${} is available as buying power.'.format(account.buying_power))"
   ]
  },
  {
   "cell_type": "code",
   "execution_count": null,
   "id": "d53a8785",
   "metadata": {
    "scrolled": true,
    "is_executing": true,
    "ExecuteTime": {
     "start_time": "2023-12-04T19:50:59.064312300Z"
    }
   },
   "outputs": [],
   "source": [
    "def find_cointegrated_pairs(df, p_value_thresh):\n",
    "        n = len(df.columns)\n",
    "        pairs = {}\n",
    "        for i in range(n):\n",
    "            for j in range(i+1, n):\n",
    "                S1 = df.iloc[:,i]\n",
    "                S2 = df.iloc[:,j]\n",
    "                result = coint(S1, S2, trend=\"c\", autolag=\"BIC\")\n",
    "                pvalue = round(result[1], 5)\n",
    "                if pvalue <= p_value_thresh:\n",
    "                    pairs[f\"{df.columns[i]} - {df.columns[j]}\"] = pvalue\n",
    "        return pairs\n",
    "\n",
    "#Filtering for pairs with cointegration below threshold(0.05)\n",
    "pairs = find_cointegrated_pairs(df=prices_df, p_value_thresh=0.05)\n",
    "pairs_df = pd.DataFrame.from_dict(pairs, orient='index')\n",
    "pairs_df = pairs_df.rename(columns={0: 'Cointegration'})\n",
    "pairs_df\n",
    "# #Mergin with df of highest correlation pairs\n",
    "highest_corr_pairs = highest_corr_pairs.merge(pairs_df, left_on='lookup', right_on=pairs_df.index)\n",
    "highest_corr_pairs"
   ]
  },
  {
   "cell_type": "code",
   "execution_count": null,
   "id": "3f626e45",
   "metadata": {
    "is_executing": true
   },
   "outputs": [],
   "source": [
    "def downloaded_stockdata(stock_1, stock_2):\n",
    "    # Downloading the required data\n",
    "    selected_df = yf.download(tickers=[stock_1, stock_2],\n",
    "                              start=START_DATE,\n",
    "                              end=dt.date.today() + dt.timedelta(days=1))\n",
    "# #     #Adding the real latest price\n",
    "#     selected_df.loc[selected_df.index[-1], ('Adj Close', stock_1)] =  get_last_price((bybit_string_conversion(stock_1)))\n",
    "#     selected_df.loc[selected_df.index[-1], ('Adj Close', stock_2)] =  get_last_price((bybit_string_conversion(stock_2)))\n",
    "\n",
    "    selected_df = selected_df.stack()\n",
    "\n",
    "    \n",
    "#     #Finding the required metrics\n",
    "    selected_df['return'] = (selected_df['Adj Close']-selected_df['Open'])/selected_df['Open']\n",
    "    selected_df['forward_return'] = selected_df.groupby(level=1)['return'].transform(lambda x: x.shift(-1))\n",
    "    selected_df = selected_df[['Adj Close', 'forward_return']].unstack().droplevel(axis=1, level=0)\n",
    "    \n",
    "\n",
    "    selected_df.columns = [stock_1, stock_2, f'{stock_1}_forward_return', f'{stock_2}_forward_return']\n",
    "    selected_df[f'{stock_1}_return'] = np.log(selected_df[stock_1]).diff()\n",
    "    selected_df[f'{stock_2}_return'] = np.log(selected_df[stock_2]).diff()\n",
    "    selected_df['hedge_ratio'] = RollingOLS(selected_df[f'{stock_2}_return'],\n",
    "                                            selected_df[f'{stock_1}_return'],\n",
    "                                            window=60).fit().params.values\n",
    "    selected_df['spread'] = (selected_df[stock_1]-selected_df[stock_2]*selected_df['hedge_ratio'])\n",
    "    \n",
    "    #Correlation test\n",
    "    selected_df['roll_corr'] = selected_df[stock_1].rolling(180).corr(selected_df[stock_2])\n",
    "    \n",
    "    # ZScore\n",
    "    def smooth_zscore(spread):\n",
    "        return (spread.rolling(1).mean()-spread.rolling(50).mean())/spread.rolling(50).std()\n",
    "    \n",
    "    selected_df['zscored'] = smooth_zscore(selected_df['spread'])\n",
    "    \n",
    "    #Trading Signal\n",
    "    selected_df['signal'] = selected_df.apply(lambda x: 1 if (x['zscored']<-1)\n",
    "                                              else (-1 if (x['zscored']>1) else 0), axis=1)\n",
    "    \n",
    "    return selected_df"
   ]
  },
  {
   "cell_type": "code",
   "execution_count": null,
   "id": "f89d89e6",
   "metadata": {
    "is_executing": true
   },
   "outputs": [],
   "source": [
    "def adf_test(stock_1, stock_2):\n",
    "    removed_na_df = downloaded_stockdata(stock_1, stock_2).dropna()\n",
    "    adf_result = adfuller(removed_na_df['spread'])[1]\n",
    "\n",
    "    if adf_result <= 0.05:\n",
    "        return ('P-Value: ' + str(round(adf_result, 2)) + ' - Passed')\n",
    "    else:\n",
    "        return ('P-Value: ' + str(round(adf_result, 2)) + ' - Failed')\n",
    "\n",
    "# Running ADF test\n",
    "adf_list = []\n",
    "for n in range(len(highest_corr_pairs)):\n",
    "    result = adf_test(highest_corr_pairs['Stock_1'][n], highest_corr_pairs['Stock_2'][n])\n",
    "    adf_list.append(result)\n",
    "\n",
    "highest_corr_pairs['adf_test'] = adf_list\n",
    "highest_corr_pairs"
   ]
  },
  {
   "cell_type": "code",
   "execution_count": null,
   "id": "124ad0f4",
   "metadata": {
    "is_executing": true
   },
   "outputs": [],
   "source": [
    "def gather_data(stock_1, stock_2):\n",
    "    global last_day, last_signal, hr, selected_df\n",
    "    #Assign selected_df  and last_day variable\n",
    "    selected_df = downloaded_stockdata(stock_1, stock_2)\n",
    "    print('Collected historical data')\n",
    "    \n",
    "    last_day = selected_df.tail(1) \n",
    "    last_signal = last_day.signal.values[0]\n",
    "    hr = round(last_day.hedge_ratio.values[0], 2)\n",
    "    \n",
    "    print('Analysed signals')\n"
   ]
  },
  {
   "cell_type": "code",
   "execution_count": null,
   "id": "08604cce",
   "metadata": {
    "is_executing": true
   },
   "outputs": [],
   "source": [
    "def pause_algo():\n",
    "    for remaining in range(5*60*60, 0, -1):\n",
    "        sys.stdout.write(\"\\r\")\n",
    "        sys.stdout.write(\"Paused Algorithm \")\n",
    "        sys.stdout.write(\"{:2d} seconds remaining.\".format(remaining))\n",
    "        sys.stdout.flush()\n",
    "        time.sleep(1)"
   ]
  },
  {
   "cell_type": "code",
   "execution_count": null,
   "id": "f3ccfcea",
   "metadata": {
    "is_executing": true
   },
   "outputs": [],
   "source": [
    "def enter_long_hedge_position(stock_1, stock_2, leverage):\n",
    "    \n",
    "    global trading_client, hr\n",
    "\n",
    "    #Placing Buy order of 1\n",
    "    market_order = trading_client.submit_order(\n",
    "                order_data=MarketOrderRequest(\n",
    "                    symbol=stock_1,\n",
    "                    qty=1*leverage,\n",
    "                    side=OrderSide.BUY,\n",
    "                    time_in_force=TimeInForce.DAY\n",
    "                    ))\n",
    "    print(stock_1 +' LONG order executed')\n",
    "\n",
    "    #Placing Short Order of Hedge Ratio Dot\n",
    "    market_order_2 = trading_client.submit_order(\n",
    "                order_data=MarketOrderRequest(\n",
    "                    symbol=stock_2,\n",
    "                    qty=round(hr*leverage),\n",
    "                    side=OrderSide.SELL,\n",
    "                    time_in_force=TimeInForce.DAY\n",
    "                    ))\n",
    "    print(stock_2+' SHORT order executed')"
   ]
  },
  {
   "cell_type": "code",
   "execution_count": null,
   "id": "7c876772",
   "metadata": {
    "is_executing": true
   },
   "outputs": [],
   "source": [
    "def enter_short_hedge_position(stock_1, stock_2, leverage):\n",
    "    global trading_client, hr\n",
    "\n",
    "    #Placing Buy order of 1 AAVE\n",
    "    \n",
    "    market_order = trading_client.submit_order(\n",
    "            order_data=MarketOrderRequest(\n",
    "                symbol=stock_1,\n",
    "                qty=1*leverage,\n",
    "                side=OrderSide.SELL,\n",
    "                time_in_force=TimeInForce.DAY\n",
    "                ))\n",
    "    print(stock_1 +' SHORT order executed')\n",
    "\n",
    "    #Placing Short Order of Hedge Ratio Dot\n",
    "    market_order = trading_client.submit_order(\n",
    "            order_data=MarketOrderRequest(\n",
    "                symbol=stock_1,\n",
    "                qty=hr*leverage,\n",
    "                side=OrderSide.BUY,\n",
    "                time_in_force=TimeInForce.DAY\n",
    "                ))\n",
    "    \n",
    "    print(stock_2+' LONG order executed')\n"
   ]
  },
  {
   "cell_type": "code",
   "execution_count": null,
   "id": "179216da",
   "metadata": {
    "is_executing": true
   },
   "outputs": [],
   "source": [
    "def positions():\n",
    "    assets = pd.DataFrame()\n",
    "    if in_position():\n",
    "        for n in range(len(trading_client.get_all_positions())):\n",
    "            pos = dict(trading_client.get_all_positions()[n])\n",
    "            pos = pd.DataFrame.from_dict(pos, orient='index').T\n",
    "            assets = pd.concat([assets, pos])\n",
    "            \n",
    "            #Changin columns from str to float type\n",
    "            columns_to_convert = ['unrealized_pl', 'cost_basis', 'market_value',\n",
    "                                  'avg_entry_price', 'qty','unrealized_plpc' ]\n",
    "            for column in columns_to_convert:\n",
    "                assets[column] = assets[column].astype(float)    \n",
    "    return assets\n",
    "\n",
    "def unrealised_profit(stock_1, stock_2):\n",
    "    filtered_pos = positions()[positions()['symbol'].isin([stock_1, stock_2])]\n",
    "    \n",
    "    unrealised_profit = filtered_pos['unrealized_pl'].sum()\n",
    "    cost_basis = filtered_pos['cost_basis'].sum()\n",
    "    percent_profit = unrealised_profit/cost_basis\n",
    "    \n",
    "    return unrealised_profit, percent_profit\n"
   ]
  },
  {
   "cell_type": "code",
   "execution_count": null,
   "id": "b08b2611",
   "metadata": {
    "is_executing": true
   },
   "outputs": [],
   "source": [
    "def take_profit(stock):\n",
    "    \n",
    "    side = str(positions().query(\"symbol == @stock\")['side'][0])\n",
    "    qty = str(positions().query(\"symbol == @stock\")['qty'][0])\n",
    "    \n",
    "    def extract_position_side(string):\n",
    "        return string.split('.')[-1]\n",
    "    \n",
    "    if side == 'PositionSide.LONG':\n",
    "            market_order = trading_client.submit_order(\n",
    "                    order_data=MarketOrderRequest(\n",
    "                        symbol=stock,\n",
    "                        qty=qty,\n",
    "                        side=OrderSide.SELL,\n",
    "                        time_in_force=TimeInForce.DAY\n",
    "                        ))\n",
    "            print('Sold ' + qty + ' shares of ' + stock + ' to exit ' + extract_position_side(side) + ' position')\n",
    "            \n",
    "    elif side == 'PositionSide.SHORT':\n",
    "        market_order = trading_client.submit_order(\n",
    "                order_data=MarketOrderRequest(\n",
    "                    symbol=stock,\n",
    "                    qty=qty,\n",
    "                    side=OrderSide.BUY,\n",
    "                    time_in_force=TimeInForce.DAY\n",
    "                    ))\n",
    "        print('Longed ' + qty + ' shares of ' + stock + ' to exit ' + extract_position_side(side) + ' position')\n"
   ]
  },
  {
   "cell_type": "code",
   "execution_count": null,
   "id": "054aaa1b",
   "metadata": {
    "is_executing": true
   },
   "outputs": [],
   "source": [
    "def in_position():\n",
    "    global trading_client\n",
    "    return bool(trading_client.get_all_positions())"
   ]
  },
  {
   "cell_type": "code",
   "execution_count": null,
   "id": "1f00c5fa",
   "metadata": {
    "is_executing": true
   },
   "outputs": [],
   "source": [
    "def execute_algo(stock_1, stock_2, leverage):#ENSURE TO ADD CORRECT ASSETS HERE\n",
    "    #defining global variables\n",
    "    global trading_client, last_day, last_signal, hr\n",
    "    \n",
    "    sys.stdout.write('\\n')\n",
    "    print('Assets chosen: ' + stock_1 + ' and ' + stock_2)\n",
    "    print('Leverage: ' + str(leverage))\n",
    "    \n",
    "    #Connect to exchange\n",
    "    connect_to_alpaca()\n",
    "    \n",
    "    while not in_position():\n",
    "        #Collect the data \n",
    "        gather_data(stock_1, stock_2)\n",
    "        #Trade execution\n",
    "        if last_signal == 1:\n",
    "            enter_long_hedge_position(stock_1, stock_2, leverage)\n",
    "\n",
    "        elif last_signal == -1:\n",
    "            enter_short_hedge_position(stock_1, stock_2, leverage)\n",
    "\n",
    "    count = 0\n",
    "    while in_position():\n",
    "        \n",
    "        unrealised_abs = round(unrealised_profit(stock_1, stock_2)[0], 3)\n",
    "        percent_profit = round(unrealised_profit(stock_1, stock_2)[1], 3)\n",
    "        \n",
    "        sys.stdout.write(\"\\r\")\n",
    "        sys.stdout.write(str(count) + '_Current Profit: ' + str(unrealised_abs) + ' = '+ str(percent_profit) + '%')\n",
    "        sys.stdout.flush()\n",
    "\n",
    "        if percent_profit > 0.05:\n",
    "            sys.stdout.write(\"\\n\")\n",
    "            print('Take Profit Hit')\n",
    "            take_profit(stock_1)\n",
    "            take_profit(stock_2)\n",
    "            pause_algo()\n",
    "\n",
    "        if percent_profit < -0.025:\n",
    "            sys.stdout.write(\"\\n\")\n",
    "            print('Stop Loss Hit')\n",
    "            take_profit(stock_1)\n",
    "            take_profit(stock_2)\n",
    "            pause_algo()\n",
    "\n",
    "        count +=1\n",
    "    \n",
    "        if not in_position():\n",
    "            execute_algo(stock_1, stock_2, leverage)\n"
   ]
  },
  {
   "cell_type": "code",
   "execution_count": null,
   "id": "61dbd1c6",
   "metadata": {
    "is_executing": true
   },
   "outputs": [],
   "source": [
    "execute_algo('TECK', 'WPM', 5)\n"
   ]
  },
  {
   "cell_type": "code",
   "execution_count": null,
   "id": "8b878ab4",
   "metadata": {
    "is_executing": true
   },
   "outputs": [],
   "source": [
    "# dates_ran = []\n",
    "\n",
    "# def check_date():\n",
    "#     today = datetime.now()\n",
    "#     dates_ran.append(today.strftime(\"%m/%d/%Y\"))\n",
    "#     time.sleep(10)\n",
    "#     if len(dates_ran) < 100:\n",
    "#         execute_algo()\n",
    "#         return check_date()\n",
    "    \n",
    "# # check_date()"
   ]
  },
  {
   "cell_type": "markdown",
   "id": "9ad040f2",
   "metadata": {},
   "source": [
    "# 4. Visualize The Spread"
   ]
  },
  {
   "cell_type": "code",
   "execution_count": null,
   "id": "88250e08",
   "metadata": {
    "is_executing": true
   },
   "outputs": [],
   "source": [
    "ax = downloaded_stockdata('TECK', 'WPM')[['TECK','WPM']].plot(figsize=(12, 6))#, title = 'Daily Closing Prices for {} and {}'.format(asset1,asset2))\n",
    "ax.set_ylabel(\"Closing Price\")\n",
    "ax.grid(True);\n"
   ]
  },
  {
   "cell_type": "code",
   "execution_count": null,
   "id": "1ddb8931",
   "metadata": {
    "is_executing": true
   },
   "outputs": [],
   "source": [
    "def spread_visualisation(stock_1, stock_2):\n",
    "    selected_df = downloaded_stockdata(stock_1, stock_2) \n",
    "    plt.title(f'{stock_1}-{round(selected_df.hedge_ratio[-1],2)}*{stock_2}')\n",
    "    downloaded_stockdata(stock_1, stock_2)['spread'].plot(figsize=(16,4), color='red')\n",
    "    \n",
    "spread_visualisation('TECK', 'WPM')"
   ]
  },
  {
   "cell_type": "code",
   "execution_count": null,
   "id": "ac87f543",
   "metadata": {
    "is_executing": true
   },
   "outputs": [],
   "source": [
    "def zscored_spread(stock_1, stock_2):\n",
    "    downloaded_stockdata(stock_1, stock_2)['zscored'].plot(figsize=(16,4), color='orange')\n",
    "    plt.title('Zscored Spread')\n",
    "    plt.axhline(1, color='k')\n",
    "    plt.axhline(-1, color='k')\n",
    "    \n",
    "zscored_spread('TECK', 'WPM')"
   ]
  },
  {
   "cell_type": "code",
   "execution_count": null,
   "id": "54e78520",
   "metadata": {
    "is_executing": true
   },
   "outputs": [],
   "source": [
    "def visualise_returns(stock_1, stock_2, tp, sl):\n",
    "    return_df = downloaded_stockdata(stock_1, stock_2).dropna()\n",
    "    return_df['combined_return'] = return_df[f'{stock_1}_return'] + return_df[f'{stock_2}_return']\n",
    "        #Trading Signal\n",
    "    return_df['signal'] = return_df.apply(lambda x: 1 if ((x['zscored']<-1) or (x['combined_return']>tp))\n",
    "                                              else (-1 if ((x['zscored']>1) or (x['combined_return']<sl)) else 0), axis=1)\n",
    "    return_df['strategy_return'] = return_df[f'{stock_1}_forward_return']*return_df['signal'] +\\\n",
    "                                 return_df[f'{stock_2}_forward_return']*return_df['signal']*-return_df['hedge_ratio']\n",
    "\n",
    "    portfolios_cumulative_return = np.exp(np.log1p(return_df['strategy_return']).cumsum())\n",
    "    portfolios_cumulative_return.plot(figsize=(16,6), color='red')\n",
    "    plt.title('Strategy Cumulative Returns')\n",
    "    plt.ylabel('Return')\n",
    "    plt.show()\n",
    "    \n",
    "visualise_returns('TECK', 'WPM', 0.05, -0.05)"
   ]
  },
  {
   "cell_type": "code",
   "execution_count": null,
   "id": "ebebb77f",
   "metadata": {
    "is_executing": true
   },
   "outputs": [],
   "source": []
  },
  {
   "cell_type": "code",
   "execution_count": null,
   "id": "25567972",
   "metadata": {
    "is_executing": true
   },
   "outputs": [],
   "source": []
  }
 ],
 "metadata": {
  "kernelspec": {
   "display_name": "Python 3 (ipykernel)",
   "language": "python",
   "name": "python3"
  },
  "language_info": {
   "codemirror_mode": {
    "name": "ipython",
    "version": 3
   },
   "file_extension": ".py",
   "mimetype": "text/x-python",
   "name": "python",
   "nbconvert_exporter": "python",
   "pygments_lexer": "ipython3",
   "version": "3.10.9"
  }
 },
 "nbformat": 4,
 "nbformat_minor": 5
}
